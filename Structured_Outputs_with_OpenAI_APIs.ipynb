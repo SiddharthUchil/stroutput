{
  "nbformat": 4,
  "nbformat_minor": 0,
  "metadata": {
    "colab": {
      "provenance": []
    },
    "kernelspec": {
      "name": "python3",
      "display_name": "Python 3"
    },
    "language_info": {
      "name": "python"
    }
  },
  "cells": [
    {
      "cell_type": "markdown",
      "source": [
        "# Structured Outputs with OpenAI APIs\n",
        "\n",
        "Reference blog: https://openai.com/index/introducing-structured-outputs-in-the-api/\n",
        "\n",
        "Reference documentation: https://platform.openai.com/docs/guides/structured-outputs/introduction"
      ],
      "metadata": {
        "id": "XDi0ls8EDdO5"
      }
    },
    {
      "cell_type": "code",
      "execution_count": null,
      "metadata": {
        "id": "F_25m6FwCdpK"
      },
      "outputs": [],
      "source": [
        "%%capture\n",
        "# update or install the necessary libraries\n",
        "!pip install --upgrade openai\n",
        "!pip install --upgrade python-dotenv"
      ]
    },
    {
      "cell_type": "code",
      "source": [
        "from pydantic import BaseModel\n",
        "from openai import OpenAI\n",
        "from google.colab import userdata\n",
        "\n",
        "# client session\n",
        "client = OpenAI(api_key=OPENAI_API_KEY)"
      ],
      "metadata": {
        "id": "VEsjV94rD5SN"
      },
      "execution_count": null,
      "outputs": []
    },
    {
      "cell_type": "markdown",
      "source": [
        "## Simple Example of Structured Outputs"
      ],
      "metadata": {
        "id": "_2NdUi2RDY62"
      }
    },
    {
      "cell_type": "code",
      "source": [
        "# Pydantic object\n",
        "\n",
        "class InsurancePolicy(BaseModel):\n",
        "    policy_number: str\n",
        "    policy_type: str  # e.g., 'health', 'life', 'auto'\n",
        "    start_date: str\n",
        "    end_date: str\n",
        "    premium_amount: float\n",
        "    coverage_details: str\n",
        "\n",
        "\n",
        "completion = client.beta.chat.completions.parse(\n",
        "    model=\"gpt-4o-2024-08-06\",\n",
        "    messages=[\n",
        "        {\"role\": \"system\", \"content\": \"Extract the insurance policy information.\"},\n",
        "        {\"role\": \"user\", \"content\": \"John Doe has a health insurance policy with policy number 123456789. The policy started on January 1, 2023, and ends on \\\n",
        "        December 31, 2023. The premium amount is $500. The coverage includes hospitalization and outpatient services.\"},\n",
        "    ],\n",
        "    response_format=InsurancePolicy,\n",
        ")\n",
        "\n",
        "\n",
        "event = completion.choices[0].message.parsed"
      ],
      "metadata": {
        "id": "a_EuvImlCwRp"
      },
      "execution_count": null,
      "outputs": []
    },
    {
      "cell_type": "code",
      "source": [
        "event"
      ],
      "metadata": {
        "colab": {
          "base_uri": "https://localhost:8080/"
        },
        "id": "30PANXiIC3IJ",
        "outputId": "22cd49b2-e969-4caf-9660-5dc2a3f3a7c3"
      },
      "execution_count": null,
      "outputs": [
        {
          "output_type": "execute_result",
          "data": {
            "text/plain": [
              "InsurancePolicy(policy_number='123456789', policy_type='Health Insurance', start_date='January 1, 2023', end_date='December 31, 2023', premium_amount=500.0, coverage_details='Hospitalization and outpatient services.')"
            ]
          },
          "metadata": {},
          "execution_count": 10
        }
      ]
    },
    {
      "cell_type": "markdown",
      "source": [
        "## Structuring Chain-of-Thought Responses"
      ],
      "metadata": {
        "id": "5rTuylX_Dwsw"
      }
    },
    {
      "cell_type": "code",
      "source": [
        "from pydantic import BaseModel\n",
        "\n",
        "class Step(BaseModel):\n",
        "    explanation: str\n",
        "    output: str\n",
        "\n",
        "class InsurancePolicyReasoning(BaseModel):\n",
        "    steps: list[Step]\n",
        "    final_answer: InsurancePolicy\n",
        "\n",
        "completion = client.beta.chat.completions.parse(\n",
        "    model=\"gpt-4o-2024-08-06\",\n",
        "    messages=[\n",
        "        {\"role\": \"system\", \"content\": \"Extract the insurance policy information step by step.\"},\n",
        "        {\"role\": \"user\", \"content\": \"During the call, John Doe mentioned that he has a health insurance policy with policy number 123456789. \\\n",
        "        The policy started on January 1, 2023, and ends on December 31, 2023. The premium amount is $500. The coverage includes hospitalization and outpatient services.\"},\n",
        "    ],\n",
        "    response_format=InsurancePolicyReasoning,\n",
        ")\n",
        "\n",
        "insurance_policy_reasoning = completion.choices[0].message.parsed\n"
      ],
      "metadata": {
        "id": "i2B3EdSG9BeE"
      },
      "execution_count": null,
      "outputs": []
    },
    {
      "cell_type": "code",
      "source": [
        "insurance_policy_reasoning"
      ],
      "metadata": {
        "id": "h1CjtrrM9DU_",
        "outputId": "ceb48914-67b2-4bac-abd1-e900aede2e81",
        "colab": {
          "base_uri": "https://localhost:8080/"
        }
      },
      "execution_count": null,
      "outputs": [
        {
          "output_type": "execute_result",
          "data": {
            "text/plain": [
              "InsurancePolicyReasoning(steps=[Step(explanation='Identify the policy number mentioned in the conversation.', output='The policy number is 123456789.'), Step(explanation='Determine the type of insurance policy based on the description provided.', output='The type of insurance policy is health insurance.'), Step(explanation='Extract the start date of the policy from the text.', output='The start date of the policy is January 1, 2023.'), Step(explanation='Extract the end date of the policy from the text.', output='The end date of the policy is December 31, 2023.'), Step(explanation='Determine the premium amount for the policy as mentioned in the conversation.', output='The premium amount is $500.'), Step(explanation='Extract the coverage details included in the policy.', output='The coverage details include hospitalization and outpatient services.')], final_answer=InsurancePolicy(policy_number='123456789', policy_type='Health Insurance', start_date='January 1, 2023', end_date='December 31, 2023', premium_amount=500.0, coverage_details='Hospitalization and outpatient services'))"
            ]
          },
          "metadata": {},
          "execution_count": 12
        }
      ]
    },
    {
      "cell_type": "markdown",
      "source": [
        "## Structured Output with Function Calling\n",
        "\n",
        "Useful when you are connecting the model to tools, functions, data, etc. in your system."
      ],
      "metadata": {
        "id": "8fOvjuIdFHQG"
      }
    },
    {
      "cell_type": "code",
      "source": [
        "tools = [\n",
        "    {\n",
        "        \"type\": \"function\",\n",
        "        \"function\": {\n",
        "            \"name\": \"get_policy_details\",\n",
        "            \"description\": \"Get the details of a customer's insurance policy. Call this whenever you need to know the policy details, for example when a customer asks about their insurance coverage.\",\n",
        "            \"parameters\": {\n",
        "                \"type\": \"object\",\n",
        "                \"properties\": {\n",
        "                    \"policy_number\": {\n",
        "                        \"type\": \"string\",\n",
        "                        \"description\": \"The customer's insurance policy number.\",\n",
        "                    },\n",
        "                },\n",
        "                \"required\": [\"policy_number\"],\n",
        "                \"additionalProperties\": False,\n",
        "            },\n",
        "        },\n",
        "        \"strict\": True, # enables structured outputs\n",
        "    },\n",
        "    {\n",
        "        \"type\": \"function\",\n",
        "        \"function\": {\n",
        "            \"name\": \"verify_customer_identity\",\n",
        "            \"description\": \"Verify the identity of a customer using various authentication mechanisms.\",\n",
        "            \"parameters\": {\n",
        "                \"type\": \"object\",\n",
        "                \"properties\": {\n",
        "                    \"customer_id\": {\n",
        "                        \"type\": \"string\",\n",
        "                        \"description\": \"The customer's unique ID.\",\n",
        "                    },\n",
        "                    \"authentication_method\": {\n",
        "                        \"type\": \"string\",\n",
        "                        \"description\": \"The method used for authentication (e.g., 'password', 'OTP', 'security_question').\",\n",
        "                    },\n",
        "                },\n",
        "                \"required\": [\"customer_id\", \"authentication_method\"],\n",
        "                \"additionalProperties\": False,\n",
        "            },\n",
        "        },\n",
        "        \"strict\": True, # enables structured outputs\n",
        "    }\n",
        "]\n"
      ],
      "metadata": {
        "id": "oDizqa6v-BUB"
      },
      "execution_count": null,
      "outputs": []
    },
    {
      "cell_type": "code",
      "source": [
        "messages = []\n",
        "messages.append({\"role\": \"system\", \"content\": \"You are a helpful customer support assistant. Use the supplied tools to assist the user.\"})\n",
        "messages.append({\"role\": \"user\", \"content\": \"Hi, I need information about my insurance policy. My policy number is 987654321.\"})\n",
        "\n",
        "response = client.chat.completions.create(\n",
        "    model='gpt-4o-2024-08-06',\n",
        "    messages=messages,\n",
        "    tools=tools,\n",
        ")\n"
      ],
      "metadata": {
        "id": "jU1ogAGQ-Ht2"
      },
      "execution_count": null,
      "outputs": []
    },
    {
      "cell_type": "code",
      "source": [
        "response"
      ],
      "metadata": {
        "id": "9psTuPuo-KQ_",
        "outputId": "055353ed-bb46-460c-b95e-a9e0c0a7fdfa",
        "colab": {
          "base_uri": "https://localhost:8080/"
        }
      },
      "execution_count": null,
      "outputs": [
        {
          "output_type": "execute_result",
          "data": {
            "text/plain": [
              "ChatCompletion(id='chatcmpl-9tWOXis89lXSkoOmTl8D6eheUFBXs', choices=[Choice(finish_reason='tool_calls', index=0, logprobs=None, message=ChatCompletionMessage(content=None, refusal=None, role='assistant', function_call=None, tool_calls=[ChatCompletionMessageToolCall(id='call_3D9GqHeXFxnSePsKy9VTkX4P', function=Function(arguments='{\"policy_number\":\"987654321\"}', name='get_policy_details'), type='function')]))], created=1723019593, model='gpt-4o-2024-08-06', object='chat.completion', service_tier=None, system_fingerprint='fp_845eaabc1f', usage=CompletionUsage(completion_tokens=18, prompt_tokens=170, total_tokens=188))"
            ]
          },
          "metadata": {},
          "execution_count": 15
        }
      ]
    },
    {
      "cell_type": "code",
      "source": [
        "messages = []\n",
        "messages.append({\"role\": \"system\", \"content\": \"You are a helpful customer support assistant. Use the supplied tools to assist the user. First, verify the customer's identity using the provided authentication method before retrieving any sensitive information.\"})\n",
        "messages.append({\"role\": \"user\", \"content\": \"Hi, I need information about my insurance policy. My customer ID is CUST12345 and I can verify my identity using my password.\"})\n",
        "\n",
        "response = client.chat.completions.create(\n",
        "    model='gpt-4o-2024-08-06',\n",
        "    messages=messages,\n",
        "    tools=tools,\n",
        ")\n"
      ],
      "metadata": {
        "id": "NKX8vDkT_YGu"
      },
      "execution_count": null,
      "outputs": []
    },
    {
      "cell_type": "code",
      "source": [
        "response"
      ],
      "metadata": {
        "id": "9ea7LAip_exb",
        "outputId": "50bf051e-95f7-4e86-a9aa-aaa2dfc25100",
        "colab": {
          "base_uri": "https://localhost:8080/"
        }
      },
      "execution_count": null,
      "outputs": [
        {
          "output_type": "execute_result",
          "data": {
            "text/plain": [
              "ChatCompletion(id='chatcmpl-9tWUIzc27nNtW3beQAGil722OrjuS', choices=[Choice(finish_reason='tool_calls', index=0, logprobs=None, message=ChatCompletionMessage(content=None, refusal=None, role='assistant', function_call=None, tool_calls=[ChatCompletionMessageToolCall(id='call_JuzMkjypuFrQ3FdnFEa8jgx9', function=Function(arguments='{\"customer_id\":\"CUST12345\",\"authentication_method\":\"password\"}', name='verify_customer_identity'), type='function')]))], created=1723019950, model='gpt-4o-2024-08-06', object='chat.completion', service_tier=None, system_fingerprint='fp_845eaabc1f', usage=CompletionUsage(completion_tokens=24, prompt_tokens=196, total_tokens=220))"
            ]
          },
          "metadata": {},
          "execution_count": 17
        }
      ]
    },
    {
      "cell_type": "code",
      "source": [
        "tools = [\n",
        "    {\n",
        "        \"type\": \"function\",\n",
        "        \"function\": {\n",
        "            \"name\": \"get_delivery_date\",\n",
        "            \"description\": \"Get the delivery date for a customer's order. Call this whenever you need to know the delivery date, for example when a customer asks 'Where is my package'\",\n",
        "            \"parameters\": {\n",
        "                \"type\": \"object\",\n",
        "                \"properties\": {\n",
        "                    \"order_id\": {\n",
        "                        \"type\": \"string\",\n",
        "                        \"description\": \"The customer's order ID.\",\n",
        "                    },\n",
        "                },\n",
        "                \"required\": [\"order_id\"],\n",
        "                \"additionalProperties\": False,\n",
        "            },\n",
        "        },\n",
        "        \"strict\": True, # enables structured outputs\n",
        "    }\n",
        "]\n",
        "\n",
        "messages = []\n",
        "messages.append({\"role\": \"system\", \"content\": \"You are a helpful customer support assistant. Use the supplied tools to assist the user.\"})\n",
        "messages.append({\"role\": \"user\", \"content\": \"Hi, can you tell me the delivery date for my order?\"})\n",
        "\n",
        "response = client.chat.completions.create(\n",
        "    model='gpt-4o-2024-08-06',\n",
        "    messages=messages,\n",
        "    tools=tools,\n",
        ")"
      ],
      "metadata": {
        "id": "_2mIj-kWEBsJ"
      },
      "execution_count": null,
      "outputs": []
    },
    {
      "cell_type": "code",
      "source": [
        "response"
      ],
      "metadata": {
        "colab": {
          "base_uri": "https://localhost:8080/"
        },
        "id": "xkP4YpliFW8c",
        "outputId": "ed976132-812b-40ca-826a-fda12947c90c"
      },
      "execution_count": null,
      "outputs": [
        {
          "output_type": "execute_result",
          "data": {
            "text/plain": [
              "ChatCompletion(id='chatcmpl-9tW5K0uhKdxj2UjSqxcmZXtyFrSTb', choices=[Choice(finish_reason='stop', index=0, logprobs=None, message=ChatCompletionMessage(content='I can help with that. Could you please provide your order ID so I can check the delivery date for you?', refusal=None, role='assistant', function_call=None, tool_calls=None))], created=1723018402, model='gpt-4o-2024-08-06', object='chat.completion', service_tier=None, system_fingerprint='fp_845eaabc1f', usage=CompletionUsage(completion_tokens=24, prompt_tokens=107, total_tokens=131))"
            ]
          },
          "metadata": {},
          "execution_count": 7
        }
      ]
    },
    {
      "cell_type": "markdown",
      "source": [
        "## Structured Output with `response_format`\n",
        "\n",
        "Useful when the model needs to respond to the user in a specified structured way."
      ],
      "metadata": {
        "id": "6F_THWqWIKni"
      }
    },
    {
      "cell_type": "code",
      "source": [
        "response_format = {\n",
        "    \"type\": \"json_schema\",\n",
        "    \"json_schema\": {\n",
        "        \"name\": \"insurance_policy_response\",\n",
        "        \"schema\": {\n",
        "            \"type\": \"object\",\n",
        "            \"properties\": {\n",
        "                \"steps\": {\n",
        "                    \"type\": \"array\",\n",
        "                    \"items\": {\n",
        "                        \"type\": \"object\",\n",
        "                        \"properties\": {\n",
        "                            \"explanation\": {\"type\": \"string\"},\n",
        "                            \"output\": {\"type\": \"string\"}\n",
        "                        },\n",
        "                        \"required\": [\"explanation\", \"output\"],\n",
        "                        \"additionalProperties\": False\n",
        "                    }\n",
        "                },\n",
        "                \"final_answer\": {\n",
        "                    \"type\": \"object\",\n",
        "                    \"properties\": {\n",
        "                        \"policy_number\": {\"type\": \"string\"},\n",
        "                        \"policy_type\": {\"type\": \"string\"},\n",
        "                        \"start_date\": {\"type\": \"string\"},\n",
        "                        \"end_date\": {\"type\": \"string\"},\n",
        "                        \"premium_amount\": {\"type\": \"number\"},\n",
        "                        \"coverage_details\": {\"type\": \"string\"}\n",
        "                    },\n",
        "                    \"required\": [\"policy_number\", \"policy_type\", \"start_date\", \"end_date\", \"premium_amount\", \"coverage_details\"],\n",
        "                    \"additionalProperties\": False\n",
        "                }\n",
        "            },\n",
        "            \"required\": [\"steps\", \"final_answer\"],\n",
        "            \"additionalProperties\": False\n",
        "        },\n",
        "        \"strict\": True\n",
        "    }\n",
        "}\n"
      ],
      "metadata": {
        "id": "_GaFT_NAAHKN"
      },
      "execution_count": null,
      "outputs": []
    },
    {
      "cell_type": "code",
      "source": [
        "messages = [\n",
        "    {\"role\": \"system\", \"content\": \"You are a helpful customer support assistant. Guide the user through extracting insurance policy details step by step.\"},\n",
        "    {\"role\": \"user\", \"content\": \"Hi, I need information about my insurance policy. My policy number is 987654321. The policy started on January 1, 2023, and ends on December 31, 2023. The premium amount is $500. The coverage includes hospitalization and outpatient services.\"}\n",
        "]\n"
      ],
      "metadata": {
        "id": "5NyUZlo8AVgq"
      },
      "execution_count": null,
      "outputs": []
    },
    {
      "cell_type": "code",
      "source": [
        "response = client.chat.completions.create(\n",
        "    model=\"gpt-4o-2024-08-06\",\n",
        "    messages=messages,\n",
        "    response_format=response_format\n",
        ")\n",
        "\n",
        "print(response.choices[0].message.content)\n"
      ],
      "metadata": {
        "id": "KfqGI_sUAYi_",
        "outputId": "8c918723-911f-4a0e-c352-f4b6d7eb7c1a",
        "colab": {
          "base_uri": "https://localhost:8080/"
        }
      },
      "execution_count": null,
      "outputs": [
        {
          "output_type": "stream",
          "name": "stdout",
          "text": [
            "{\"steps\":[{\"explanation\":\"Start by confirming the provided policy number to ensure it's in a valid format and corresponds to your records.\",\"output\":\"Confirmed policy number: 987654321.\"},{\"explanation\":\"Verify the start and end dates of the policy to ensure they are accurate and fall within the active period.\",\"output\":\"Policy start date: January 1, 2023; Policy end date: December 31, 2023.\"},{\"explanation\":\"Check the premium amount to ensure it matches your records and agree to the expected premium amount for the policy period.\",\"output\":\"Premium amount is confirmed as $500.\"},{\"explanation\":\"Review the coverage details to confirm they include what is outlined in your policy, such as hospitalization and outpatient services.\",\"output\":\"Coverage includes: hospitalization and outpatient services.\"}],\"final_answer\":{\"policy_number\":\"987654321\",\"policy_type\":\"Health Insurance\",\"start_date\":\"January 1, 2023\",\"end_date\":\"December 31, 2023\",\"premium_amount\":500,\"coverage_details\":\"Hospitalization and outpatient services\"}}\n"
          ]
        }
      ]
    }
  ]
}